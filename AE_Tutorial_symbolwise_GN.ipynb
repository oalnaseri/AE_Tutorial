{
 "cells": [
  {
   "cell_type": "markdown",
   "metadata": {},
   "source": [
    "# Symbol-wise Autoencoder\n"
   ]
  },
  {
   "cell_type": "markdown",
   "metadata": {},
   "source": [
    "# Import lib"
   ]
  },
  {
   "cell_type": "code",
   "execution_count": 1,
   "metadata": {},
   "outputs": [],
   "source": [
    "import numpy as np\n",
    "import matplotlib.pyplot as plt  \n",
    "\n",
    "import tensorflow as tf\n",
    "from tensorflow.keras import Model\n",
    "from tensorflow.keras.layers import Layer, Dense, Softmax"
   ]
  },
  {
   "cell_type": "markdown",
   "metadata": {},
   "source": [
    "## Define the layers"
   ]
  },
  {
   "cell_type": "code",
   "execution_count": 8,
   "metadata": {},
   "outputs": [],
   "source": [
    "class Normalization(Layer):\n",
    "\n",
    "    def __init__(self, **kwargs):\n",
    "        super(Normalization, self).__init__(**kwargs)\n",
    "\n",
    "    def call(self, symbols):        \n",
    "        # Normalize power per symbol to 1\n",
    "        en_moy = tf.sqrt(2 * tf.reduce_mean(tf.square(symbols)))\n",
    "        symbols_norm = tf.divide(symbols, en_moy)\n",
    "        \n",
    "        return symbols_norm\n",
    "\n",
    "class R2C(Layer):\n",
    "\n",
    "    def __init__(self, **kwargs):\n",
    "        super(R2C, self).__init__(**kwargs)\n",
    "\n",
    "    def call(self, x):\n",
    "        # Converts 2Nc real numbers into Nc complex numbers\n",
    "        x_cplx = tf.complex(x[:, :1], x[:, 1:])\n",
    "            \n",
    "        return x_cplx\n",
    "\n",
    "class C2R(Layer):\n",
    "\n",
    "    def __init__(self, **kwargs):\n",
    "        super(C2R, self).__init__(**kwargs)\n",
    "\n",
    "    def call(self, y):\n",
    "        #converts Nc complex numbers into 2Nc real numbers\n",
    "        y_real = tf.concat([tf.math.real(y), tf.math.imag(y)], axis=1)\n",
    "            \n",
    "        return y_real\n",
    "\n",
    "class OneHot(Layer):\n",
    "\n",
    "    def __init__(self, M, **kwargs):\n",
    "        super(OneHot, self).__init__(**kwargs)\n",
    "        self.M = M\n",
    "\n",
    "    def call(self, msg):\n",
    "        \n",
    "        one_hot_msg = tf.one_hot(msg, depth = M)\n",
    "        \n",
    "        return one_hot_msg\n",
    "\n",
    "class Channel(Layer):\n",
    "\n",
    "    def __init__(self, **kwargs):\n",
    "        super(Channel, self).__init__(**kwargs)\n",
    "            \n",
    "    def call(self, x, snr):\n",
    "        # Adds random Gaussian noise to the input\n",
    "        noise_stddev = tf.sqrt( 2 / tf.pow(10., snr/10.0))\n",
    "        noise_r = tf.random.normal(shape = tf.shape(x), stddev = 1) * noise_stddev/tf.sqrt(2.)\n",
    "        noise_i = tf.random.normal(shape = tf.shape(x), stddev = 1) * noise_stddev/tf.sqrt(2.)\n",
    "        noise_cplx = tf.complex(noise_r, noise_i, name=\"noise\")\n",
    "\n",
    "        return x  + noise_cplx"
   ]
  },
  {
   "cell_type": "markdown",
   "metadata": {},
   "source": [
    "## Generate messages"
   ]
  },
  {
   "cell_type": "code",
   "execution_count": 3,
   "metadata": {},
   "outputs": [],
   "source": [
    "def generate_ds_msg(epoch_len, batch_size, M):\n",
    "    \n",
    "    #Generate a dataset of 'epoch_len' batches of messages.\n",
    "    #Each batch have a size 'batch_size' and consists of messages (symbols) betwen 0 and M-1\n",
    "    rand_msg = tf.random.uniform(shape=[epoch_len, batch_size], minval=0, maxval=M, dtype=tf.int32)\n",
    "    features_ds = tf.data.Dataset.from_tensor_slices(rand_msg)\n",
    "    \n",
    "    #The labels are the same as the features : this is an autoencoder, we want to predict the same message that has been sent.\n",
    "    labels_ds = features_ds\n",
    "    \n",
    "    return (features_ds, labels_ds)"
   ]
  },
  {
   "cell_type": "markdown",
   "metadata": {},
   "source": [
    "## Define the model"
   ]
  },
  {
   "cell_type": "code",
   "execution_count": 24,
   "metadata": {},
   "outputs": [],
   "source": [
    "class Autoencoder(Model):\n",
    "\n",
    "    def __init__(self, M, **kwargs):\n",
    "        super(Autoencoder, self).__init__(**kwargs)\n",
    "        \n",
    "        #Set the class' attributes\n",
    "        self.M = M\n",
    "\n",
    "        # Initialise the transmitter layers\n",
    "        self.oh = OneHot(self.M)\n",
    "        self.d1 = Dense(64, activation='elu')\n",
    "        self.d2 = Dense(2, activation=None)\n",
    "        self.norm = Normalization()\n",
    "        self.r2c = R2C()\n",
    "        \n",
    "        # Initialise the channel\n",
    "        self.ch = Channel()\n",
    "        \n",
    "        # Initialise the receiver layers\n",
    "        self.c2r = C2R()\n",
    "        self.d3 = Dense(64, activation='elu')\n",
    "        self.d4 = Dense(self.M, activation=None)\n",
    "        self.softm = Softmax()\n",
    "    \n",
    "    def call(self, inputs, snr):\n",
    "        \n",
    "        # Transmitter\n",
    "        self.x1 = self.oh(inputs)\n",
    "        self.x2 = self.d1(self.x1)\n",
    "        self.x3 = self.d2(self.x2)\n",
    "        self.x4 = self.norm(self.x3)\n",
    "        self.x = self.r2c(self.x4)\n",
    "    \n",
    "        #Channel\n",
    "        self.y = self.ch(self.x, snr)\n",
    "        \n",
    "        #Receiver\n",
    "        self.pb1 = self.c2r(self.y)\n",
    "        self.pb2 = self.d3(self.pb1)\n",
    "        self.pb3 = self.d4(self.pb2)\n",
    "        self.pb = self.softm(self.pb3)\n",
    "    \n",
    "        return self.pb"
   ]
  },
  {
   "cell_type": "markdown",
   "metadata": {},
   "source": [
    "## loss function"
   ]
  },
  {
   "cell_type": "code",
   "execution_count": 5,
   "metadata": {},
   "outputs": [],
   "source": [
    "loss_func = tf.keras.losses.SparseCategoricalCrossentropy()"
   ]
  },
  {
   "cell_type": "markdown",
   "metadata": {},
   "source": [
    "## Instantiate the autoencoder"
   ]
  },
  {
   "cell_type": "code",
   "execution_count": 25,
   "metadata": {},
   "outputs": [],
   "source": [
    "# Number of messages\n",
    "M = 8\n",
    "#Set the seeds\n",
    "SEED = 1\n",
    "np.random.seed(SEED)\n",
    "tf.random.set_seed(SEED)\n",
    "\n",
    "#Create the autoencoder\n",
    "autoencoder = Autoencoder(M)"
   ]
  },
  {
   "cell_type": "markdown",
   "metadata": {},
   "source": [
    "# See constellation before training"
   ]
  },
  {
   "cell_type": "code",
   "execution_count": 26,
   "metadata": {},
   "outputs": [
    {
     "data": {
      "image/png": "[encoded data removed]",
      "text/plain": [
       "<Figure size 450x400 with 1 Axes>"
      ]
     },
     "metadata": {},
     "output_type": "display_data"
    }
   ],
   "source": [
    "snr_eval = 10\n",
    "\n",
    "# Form a batch containing every message\n",
    "batch_msg = tf.cast(tf.linspace(0., M-1, M), tf.int32)\n",
    "\n",
    "p_b = autoencoder(batch_msg, snr_eval)\n",
    "\n",
    "msg_np = batch_msg.numpy()\n",
    "x_np = autoencoder.x.numpy()\n",
    "\n",
    "plt.figure(figsize=(4.5, 4))\n",
    "plt.scatter(np.real(x_np[:, 0]), np.imag(x_np[:, 0]))\n",
    "for i in range(np.shape(x_np)[0]) :\n",
    "    plt.text(np.real(x_np[i, 0]), np.imag(x_np[i, 0]), str(msg_np[i]), fontsize=18)"
   ]
  },
  {
   "cell_type": "markdown",
   "metadata": {},
   "source": [
    "# Train"
   ]
  },
  {
   "cell_type": "code",
   "execution_count": 27,
   "metadata": {},
   "outputs": [
    {
     "name": "stdout",
     "output_type": "stream",
     "text": [
      "Symbol Error Rate after each epoch:\n",
      "0.126, 0.0402, 0.0154, 0.0113, 0.0102, 0.0109, 0.0099, 0.0096, 0.0117, 0.0088, 0.011, 0.0104, 0.0116, 0.0099, 0.01, 0.0118, 0.0106, 0.0099, 0.0104, 0.01, 0.0111, 0.0098, 0.011, 0.0113, 0.0089, Done\n"
     ]
    }
   ],
   "source": [
    "batch_size = 10000\n",
    "epoch_size = 100\n",
    "nb_epoch = 25\n",
    "snr_training = 15\n",
    "\n",
    "print('Symbol Error Rate after each epoch:')\n",
    "\n",
    "#Initialize optimizer\n",
    "optimizer = tf.keras.optimizers.Adam()\n",
    "\n",
    "for epoch in range(nb_epoch):\n",
    "    \n",
    "    # Create a random dataset for each epoch\n",
    "    dataset = tf.data.Dataset.zip(generate_ds_msg(epoch_size, batch_size, M))\n",
    "\n",
    "    # Iterate over the batches of the dataset.\n",
    "    for step, (features, labels) in enumerate(dataset):\n",
    "        # Open a GradientTape.\n",
    "        with tf.GradientTape() as tape:\n",
    "\n",
    "            # Forward pass.\n",
    "            probas = autoencoder(features, snr_training)\n",
    "\n",
    "            # Loss value for this batch.\n",
    "            loss_value =  loss_func(y_true=labels, y_pred=probas)\n",
    "\n",
    "        # Get gradients of loss wrt the weights.\n",
    "        gradients = tape.gradient(loss_value, autoencoder.trainable_weights)\n",
    "\n",
    "        # Update the weights of our linear layer.\n",
    "        optimizer.apply_gradients(zip(gradients, autoencoder.trainable_weights))\n",
    "    \n",
    "    #Take the argmax of the probability distribution as the estimated message\n",
    "    m_hat = tf.argmax(probas, axis=1, output_type=tf.int32)\n",
    "    \n",
    "    ser = tf.reduce_sum(tf.clip_by_value(tf.abs(labels-m_hat), 0, 1))/(batch_size)\n",
    "    print(ser.numpy(), end=', ')\n",
    "print('Done')"
   ]
  },
  {
   "cell_type": "markdown",
   "metadata": {},
   "source": [
    "## Evaluate the model"
   ]
  },
  {
   "cell_type": "code",
   "execution_count": 33,
   "metadata": {},
   "outputs": [
    {
     "name": "stdout",
     "output_type": "stream",
     "text": [
      "0.76541, 0.7489, 0.73393, 0.71146, 0.68787, 0.65946, 0.62934, 0.59435, 0.55347, 0.50906, 0.45764, 0.40165, 0.34635, 0.28711, 0.22757, 0.17013, 0.12051, 0.07701, 0.045, 0.02259, 0.01017, 0.00402, 0.00113, 0.00027, 3e-05, 0.0, "
     ]
    }
   ],
   "source": [
    "snr_range = np.arange(-5, 21)\n",
    "results=[]\n",
    "bs_eval = 100000\n",
    "\n",
    "for snr_eval in snr_range:\n",
    "    \n",
    "    batch_msg = tf.random.uniform(shape=[bs_eval], minval=0, maxval=M, dtype=tf.int32)\n",
    "    \n",
    "    p_m = autoencoder(batch_msg, snr_eval)\n",
    "    m_hat = tf.argmax(p_m, axis=1, output_type=tf.int32)\n",
    "    \n",
    "    ser = tf.reduce_sum(tf.clip_by_value(tf.abs(batch_msg-m_hat), 0, 1))/(bs_eval)\n",
    "    print(ser.numpy(), end=', ')\n",
    "    results.append(ser.numpy())"
   ]
  },
  {
   "cell_type": "code",
   "execution_count": 34,
   "metadata": {},
   "outputs": [],
   "source": [
    "AE_8 = np.array([0.76541, 0.7489, 0.73393, 0.71146, 0.68787, 0.65946, 0.62934, 0.59435, 0.55347, 0.50906, 0.45764, 0.40165, 0.34635, 0.28711, 0.22757, 0.17013, 0.12051, 0.07701, 0.045, 0.02259, 0.01017, 0.00402, 0.00113, 0.00027, 3e-05, 0.0])"
   ]
  },
  {
   "cell_type": "code",
   "execution_count": 35,
   "metadata": {},
   "outputs": [
    {
     "data": {
      "image/png": "[encoded data removed]",
      "text/plain": [
       "<Figure size 800x500 with 1 Axes>"
      ]
     },
     "metadata": {},
     "output_type": "display_data"
    }
   ],
   "source": [
    "plt.figure(figsize=(8, 5))\n",
    "plt.semilogy(snr_range, AE_8, label='AE 8-PSK')\n",
    "# plt.semilogy(snr_range, results, label='AE 16-QAM')\n",
    "plt.legend()\n",
    "plt.xlabel('SNR(dB)')\n",
    "plt.ylabel('Symbol Eror Rate');\n",
    "plt.ylim(1e-4, 1)\n",
    "plt.grid(which='major', alpha=0.5)\n",
    "plt.grid(which='minor', alpha=0.25)"
   ]
  },
  {
   "cell_type": "markdown",
   "metadata": {},
   "source": [
    "## See learned constellation"
   ]
  },
  {
   "cell_type": "code",
   "execution_count": 36,
   "metadata": {},
   "outputs": [
    {
     "data": {
      "image/png": "[encoded data removed]",
      "text/plain": [
       "<Figure size 450x400 with 1 Axes>"
      ]
     },
     "metadata": {},
     "output_type": "display_data"
    }
   ],
   "source": [
    "snr_eval = 10\n",
    "\n",
    "# Form a batch containing every message\n",
    "batch_msg = tf.cast(tf.linspace(0., M-1, M), tf.int32)\n",
    "\n",
    "p_b = autoencoder(batch_msg, snr_eval)\n",
    "\n",
    "msg_np = batch_msg.numpy()\n",
    "x_np = autoencoder.x.numpy()\n",
    "\n",
    "plt.figure(figsize=(4.5, 4))\n",
    "plt.scatter(np.real(x_np[:, 0]), np.imag(x_np[:, 0]))\n",
    "for i in range(np.shape(x_np)[0]) :\n",
    "    plt.text(np.real(x_np[i, 0]), np.imag(x_np[i, 0]), str(msg_np[i]), fontsize=18)"
   ]
  }
 ],
 "metadata": {
  "kernelspec": {
   "display_name": "Python 3 (ipykernel)",
   "language": "python",
   "name": "python3"
  },
  "language_info": {
   "codemirror_mode": {
    "name": "ipython",
    "version": 3
   },
   "file_extension": ".py",
   "mimetype": "text/x-python",
   "name": "python",
   "nbconvert_exporter": "python",
   "pygments_lexer": "ipython3",
   "version": "3.8.18"
  }
 },
 "nbformat": 4,
 "nbformat_minor": 4
}
