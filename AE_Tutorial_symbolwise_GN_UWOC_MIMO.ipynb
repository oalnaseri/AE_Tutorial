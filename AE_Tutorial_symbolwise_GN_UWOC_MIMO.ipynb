{
 "cells": [
  {
   "cell_type": "markdown",
   "metadata": {
    "id": "SCYfKuefj-o9"
   },
   "source": [
    "# Symbol-wise Autoencoder for Under Water Optical Channel Model\n",
    "1) Photon propagation over a distance $d = - \\frac{ln(U)}{c(\\lambda)} $ , $U$ is a uniformly distributed random number, $c(\\lambda)$ is the extinction coefficient\n",
    "2) Updating direction of photon using scattering functions: $ \\cos(\\theta) = \\frac{1}{2g} \\left( 1 + g^2 - \\left( \\frac{1 - g^2}{1 - g + 2gU} \\right)^2 \\right) $ where $\\theta$ is the new scattering angle, $g$ is the asymmetry parameter\n",
    "3) Absorption to reduce the weight of the photon $ \\text{weightPh}= \\text{weightPh} \\cdot e^{−aU⋅d}$\n",
    "4) Channel impulse response $h_t = \\frac{I_{\\text{received}}}{I_{\\text{total}}}$, where $I$ is the intensity.\n",
    "5) Received signal is calculated after adding noise based on SNR $ReceivedSamples = h \\cdot OutputSamples + Noise$\n"
   ]
  },
  {
   "cell_type": "markdown",
   "metadata": {
    "id": "vD1R-jRCj-pB"
   },
   "source": [
    "# Import lib"
   ]
  },
  {
   "cell_type": "code",
   "execution_count": 1,
   "metadata": {
    "id": "w9IJxtHuj-pC"
   },
   "outputs": [],
   "source": [
    "import numpy as np\n",
    "import matplotlib.pyplot as plt\n",
    "\n",
    "import tensorflow as tf\n",
    "from tensorflow.keras import Model\n",
    "from tensorflow.keras.layers import Layer, Dense, Softmax"
   ]
  },
  {
   "cell_type": "markdown",
   "metadata": {
    "id": "-PkLM81Tj-pF"
   },
   "source": [
    "## Define the layers"
   ]
  },
  {
   "cell_type": "code",
   "execution_count": 17,
   "metadata": {},
   "outputs": [],
   "source": [
    "### Implementation of UWOC_channel received from Dr. Mustafa\n",
    "class UWOCChannel(tf.Module):\n",
    "    def __init__(self, aU, bU, cU, Nt, Nr):\n",
    "        \"\"\"\n",
    "        Initialize the UWOC channel parameters.\n",
    "        \n",
    "        - `aU`: Absorption coefficient\n",
    "        - `bU`: Scattering coefficient\n",
    "        - `cU`: Extinction coefficient (aU + bU)\n",
    "        - `Nt`: Number of transmit antennas\n",
    "        - `Nr`: Number of receive antennas\n",
    "        - `Eb_N0_dB`: Energy per bit to noise power spectral density ratio\n",
    "        \"\"\"\n",
    "        self.aU = aU\n",
    "        self.bU = bU\n",
    "        self.cU = cU\n",
    "        self.Nt = Nt\n",
    "        self.Nr = Nr\n",
    "        \n",
    "        self.Fov = tf.constant(120 * (3.1415926535 / 180), dtype=tf.float32)\n",
    "        self.n_water = tf.constant(1.333, dtype=tf.float32)\n",
    "        self.v = 3e8 / self.n_water\n",
    "        \n",
    "        self.photons_received = tf.Variable(0, dtype=tf.float32, trainable=False)\n",
    "        self.total_intensity = tf.Variable(0.0, dtype=tf.float32, trainable=False)\n",
    "\n",
    "    @tf.function\n",
    "    def initialize_photon(self, receiver_position):\n",
    "        positionPh = tf.zeros(3, dtype=tf.float32)\n",
    "        direction_vector = receiver_position - positionPh\n",
    "        normalized_direction = direction_vector / tf.norm(direction_vector)\n",
    "        # tf.print(\"Photon direction:\", normalized_direction)  # Debug print\n",
    "    \n",
    "        thetaPh = tf.acos(normalized_direction[2])\n",
    "        phiPh = tf.atan2(normalized_direction[1], normalized_direction[0])\n",
    "        directionPh = normalized_direction\n",
    "    \n",
    "        weightPh = tf.constant(1.0, dtype=tf.float32)\n",
    "        return thetaPh, phiPh, positionPh, directionPh, weightPh\n",
    "\n",
    "\n",
    "    @tf.function\n",
    "    def move_photon(self, d, positionPh, directionPh):\n",
    "        return positionPh + d * directionPh\n",
    "\n",
    "    @tf.function\n",
    "    def received(self, positionRe, radiusRe, positionPh, directionPh, positionPh_new):\n",
    "        distance = tf.norm(positionPh_new - positionRe)\n",
    "        reached = distance <= radiusRe\n",
    "    \n",
    "        if reached:\n",
    "            direction_to_receiver = positionRe - positionPh_new\n",
    "            direction_to_receiver = direction_to_receiver / tf.norm(direction_to_receiver)\n",
    "            cos_angle = tf.tensordot(directionPh, direction_to_receiver, axes=1)\n",
    "            within_fov = cos_angle > tf.cos(self.Fov / 2)\n",
    "            return reached, positionPh_new, within_fov\n",
    "        else:\n",
    "            return reached, positionPh_new, False\n",
    "\n",
    "    @tf.function\n",
    "    def simulate(self, OutputSamples, snr):\n",
    "        N = tf.constant(1000, dtype=tf.int32)\n",
    "        photons_received = tf.TensorArray(dtype=tf.float32, size=N)\n",
    "        total_intensity = tf.TensorArray(dtype=tf.float32, size=N)\n",
    "        receiver_position = tf.constant([5.0, 0.0, 0.0], dtype=tf.float32)\n",
    "        receiver_radius = tf.constant(10.0, dtype=tf.float32)\n",
    "    \n",
    "        for i in tf.range(N):\n",
    "            thetaPh, phiPh, positionPh, directionPh, weightPh = self.initialize_photon(receiver_position)\n",
    "            reached = tf.constant(False, dtype=tf.bool)\n",
    "    \n",
    "            while tf.logical_and(tf.logical_not(reached), weightPh > 0):\n",
    "                d = -tf.math.log(tf.random.uniform([], dtype=tf.float32)) / self.cU\n",
    "                positionPh_new = self.move_photon(d, positionPh, directionPh)\n",
    "    \n",
    "                reached, positionPh_new, within_fov = self.received(receiver_position, receiver_radius, positionPh, directionPh, positionPh_new)\n",
    "                # tf.print(\"Photon position:\", positionPh_new, \"Weight:\", weightPh, \"Reached:\", reached, \"Within FOV:\", within_fov)  # Debug print\n",
    "    \n",
    "                if reached and within_fov:\n",
    "                    photons_received = photons_received.write(i, 1)\n",
    "                    total_intensity = total_intensity.write(i, weightPh)\n",
    "                    break\n",
    "    \n",
    "                weightPh = weightPh * tf.exp(-self.aU * d)\n",
    "    \n",
    "                if weightPh < 1e-2:\n",
    "                    survival_prob = tf.random.uniform([], dtype=tf.float32)\n",
    "                    if survival_prob > 0.1:\n",
    "                        weightPh = tf.constant(0.0, dtype=tf.float32)\n",
    "                    else:\n",
    "                        weightPh = weightPh / tf.constant(0.1, dtype=tf.float32)\n",
    "    \n",
    "                positionPh = positionPh_new\n",
    "    \n",
    "        total_received = tf.reduce_sum(photons_received.stack())\n",
    "        total_intensity_value = tf.reduce_sum(total_intensity.stack())\n",
    "    \n",
    "        h_t_N = total_intensity_value / tf.cast(N, tf.float32)\n",
    "        h_t = tf.ones_like(OutputSamples) * tf.cast(h_t_N, tf.complex64)\n",
    "\n",
    "        # compute sigma\n",
    "        snr = tf.cast(snr, tf.float32)\n",
    "       \n",
    "        # snr = tf.cast(snr, tf.float32)\n",
    "        noise_stddev = tf.sqrt(2 / tf.pow(10., snr / 10.0))\n",
    "        noise_r = tf.random.normal(shape=tf.shape(OutputSamples), stddev=1) * noise_stddev / tf.sqrt(2.)\n",
    "        noise_i = tf.random.normal(shape=tf.shape(OutputSamples), stddev=1) * noise_stddev / tf.sqrt(2.)\n",
    "        noise_cplx = tf.complex(noise_r, noise_i, name=\"noise\")\n",
    "\n",
    "        # Different configurations of Nt and Nr \n",
    "        if self.Nt == 1 and (self.Nr == 1 or self.Nr == 2):  # Receive diversity\n",
    "            ReceivedSamples = h_t * OutputSamples + noise_cplx\n",
    "        elif Nt == 2 and Nr == 2:\n",
    "            OutputSamples = tf.squeeze(OutputSamples)  # Ensure shape is (10000,)\n",
    "            h_t = tf.squeeze(h_t)\n",
    "          \n",
    "            sMod = tf.tile(OutputSamples[tf.newaxis, :], [Nr, 1])           \n",
    "            output_len = tf.shape(OutputSamples)[0]\n",
    "            sMod = tf.reshape(sMod, (Nr, Nt, output_len // Nt))\n",
    "\n",
    "            sMod_h = tf.tile(h_t[tf.newaxis, :], [Nr, 1])\n",
    "            output_len = tf.shape(h_t)[0]\n",
    "            sMod_h = tf.reshape(sMod_h, (Nr, Nt, output_len // Nt))    \n",
    "            \n",
    "            ReceivedSamples = tf.expand_dims(tf.reshape(tf.reduce_sum(sMod_h * sMod, axis=0), (-1,)), axis=1) + (noise_cplx)\n",
    "\n",
    "        else:\n",
    "            raise ValueError(\"Unsupported configuration of Nt and Nr\")\n",
    "       \n",
    "        return ReceivedSamples"
   ]
  },
  {
   "cell_type": "code",
   "execution_count": 3,
   "metadata": {
    "id": "GlUGrSNEj-pG"
   },
   "outputs": [],
   "source": [
    "class Normalization(Layer):\n",
    "\n",
    "    def __init__(self, **kwargs):\n",
    "        super(Normalization, self).__init__(**kwargs)\n",
    "\n",
    "    def call(self, symbols):\n",
    "        # Normalize power per symbol to 1\n",
    "        en_moy = tf.sqrt(2 * tf.reduce_mean(tf.square(symbols)))\n",
    "        symbols_norm = tf.divide(symbols, en_moy)\n",
    "\n",
    "        return symbols_norm\n",
    "\n",
    "class R2C(Layer):\n",
    "\n",
    "    def __init__(self, **kwargs):\n",
    "        super(R2C, self).__init__(**kwargs)\n",
    "\n",
    "    def call(self, x):\n",
    "        # Converts 2Nc real numbers into Nc complex numbers\n",
    "        x_cplx = tf.complex(x[:, :1], x[:, 1:])\n",
    "\n",
    "        return x_cplx\n",
    "\n",
    "class C2R(Layer):\n",
    "\n",
    "    def __init__(self, **kwargs):\n",
    "        super(C2R, self).__init__(**kwargs)\n",
    "\n",
    "    def call(self, y):\n",
    "        #converts Nc complex numbers into 2Nc real numbers\n",
    "        y_real = tf.concat([tf.math.real(y), tf.math.imag(y)], axis=1)\n",
    "\n",
    "        return y_real\n",
    "\n",
    "class OneHot(Layer):\n",
    "\n",
    "    def __init__(self, M, **kwargs):\n",
    "        super(OneHot, self).__init__(**kwargs)\n",
    "        self.M = M\n",
    "\n",
    "    def call(self, msg):\n",
    "\n",
    "        one_hot_msg = tf.one_hot(msg, depth = M)\n",
    "\n",
    "        return one_hot_msg"
   ]
  },
  {
   "cell_type": "markdown",
   "metadata": {
    "id": "UQe655w0j-pI"
   },
   "source": [
    "## Generate messages"
   ]
  },
  {
   "cell_type": "code",
   "execution_count": 4,
   "metadata": {
    "id": "gn-U9H_gj-pJ"
   },
   "outputs": [],
   "source": [
    "def generate_ds_msg(epoch_len, batch_size, M):\n",
    "\n",
    "    #Generate a dataset of 'epoch_len' batches of messages.\n",
    "    #Each batch have a size 'batch_size' and consists of messages (symbols) betwen 0 and M-1\n",
    "    rand_msg = tf.random.uniform(shape=[epoch_len, batch_size], minval=0, maxval=M, dtype=tf.int32)\n",
    "    features_ds = tf.data.Dataset.from_tensor_slices(rand_msg)\n",
    "\n",
    "    #The labels are the same as the features : this is an autoencoder, we want to predict the same message that has been sent.\n",
    "    labels_ds = features_ds\n",
    "\n",
    "    return (features_ds, labels_ds)"
   ]
  },
  {
   "cell_type": "markdown",
   "metadata": {
    "id": "wnW-8KQaj-pK"
   },
   "source": [
    "## Define the model"
   ]
  },
  {
   "cell_type": "code",
   "execution_count": 18,
   "metadata": {
    "id": "Jw_i4UBtj-pL"
   },
   "outputs": [],
   "source": [
    "class Autoencoder(Model):\n",
    "\n",
    "    def __init__(self, M, aU, bU, cU, Nt, Nr, **kwargs):\n",
    "        super(Autoencoder, self).__init__(**kwargs)\n",
    "\n",
    "        #Set the class' attributes\n",
    "        self.M = M\n",
    "        self.aU = aU\n",
    "        self.bU = bU\n",
    "        self.cU = cU\n",
    "        self.Nt = Nt\n",
    "        self.Nr = Nr\n",
    "\n",
    "        # Initialise the transmitter layers\n",
    "        self.oh = OneHot(self.M)\n",
    "        self.d1 = Dense(64, activation='elu')\n",
    "        self.d2 = Dense(2, activation=None)\n",
    "        self.norm = Normalization()\n",
    "        self.r2c = R2C()\n",
    "\n",
    "        # Initialise the channel\n",
    "        # self.ch = Channel(self.M)\n",
    "        self.ch = UWOCChannel(self.aU, self.bU, self.cU, self.Nt, self.Nr)\n",
    "\n",
    "        # Initialise the receiver layers\n",
    "        self.c2r = C2R()\n",
    "        self.d3 = Dense(64, activation='elu')\n",
    "        self.d4 = Dense(self.M, activation=None)\n",
    "        self.softm = Softmax()\n",
    "\n",
    "    def call(self, inputs, snr):\n",
    "\n",
    "        # Transmitter\n",
    "        # print(\"input \", inputs.shape)\n",
    "        self.x1 = self.oh(inputs)\n",
    "        # print(\"self.x1 \", self.x1)\n",
    "        self.x2 = self.d1(self.x1)\n",
    "        self.x3 = self.d2(self.x2)\n",
    "        self.x4 = self.norm(self.x3)\n",
    "        self.x = self.r2c(self.x4)\n",
    "\n",
    "        #Channel\n",
    "        # self.y = self.ch(self.x, snr=snr) \n",
    "        self.y = self.ch.simulate(self.x, snr)\n",
    "\n",
    "        #Receiver\n",
    "        self.pb1 = self.c2r(self.y)\n",
    "        self.pb2 = self.d3(self.pb1)\n",
    "        self.pb3 = self.d4(self.pb2)\n",
    "        self.pb = self.softm(self.pb3)\n",
    "\n",
    "        return self.pb"
   ]
  },
  {
   "cell_type": "markdown",
   "metadata": {
    "id": "SU2xvK86j-pN"
   },
   "source": [
    "## loss function"
   ]
  },
  {
   "cell_type": "code",
   "execution_count": 6,
   "metadata": {
    "id": "B0JzfasPj-pO"
   },
   "outputs": [],
   "source": [
    "loss_func = tf.keras.losses.SparseCategoricalCrossentropy()"
   ]
  },
  {
   "cell_type": "markdown",
   "metadata": {
    "id": "3BksDxELj-pP"
   },
   "source": [
    "## Instantiate the autoencoder"
   ]
  },
  {
   "cell_type": "code",
   "execution_count": 19,
   "metadata": {
    "id": "7mWkdx1Vj-pP"
   },
   "outputs": [],
   "source": [
    "# Number of messages\n",
    "M = 4\n",
    "#Set the seeds\n",
    "SEED = 1\n",
    "np.random.seed(SEED)\n",
    "tf.random.set_seed(SEED)\n",
    "\n",
    "aU, bU = 0.1, 0.1\n",
    "cU = aU + bU\n",
    "Nt, Nr = 2, 2\n",
    "\n",
    "#Create the autoencoder\n",
    "autoencoder = Autoencoder(M, aU, bU, cU, Nt, Nr)"
   ]
  },
  {
   "cell_type": "markdown",
   "metadata": {
    "id": "C2ti8MRzj-pQ"
   },
   "source": [
    "# See constellation before training"
   ]
  },
  {
   "cell_type": "code",
   "execution_count": 116,
   "metadata": {
    "colab": {
     "base_uri": "https://localhost:8080/",
     "height": 373
    },
    "id": "uUdR6r87j-pQ",
    "outputId": "33c24911-5271-4668-adba-b230e9c6122f"
   },
   "outputs": [
    {
     "data": {
      "image/png": "[encoded data removed]",
      "text/plain": [
       "<Figure size 450x400 with 1 Axes>"
      ]
     },
     "metadata": {},
     "output_type": "display_data"
    }
   ],
   "source": [
    "snr_eval = 10\n",
    "\n",
    "# Form a batch containing every message\n",
    "batch_msg = tf.cast(tf.linspace(0., M-1, M), tf.int32)\n",
    "\n",
    "p_b = autoencoder(batch_msg, snr=snr_eval)\n",
    "\n",
    "msg_np = batch_msg.numpy()\n",
    "x_np = autoencoder.x.numpy()\n",
    "\n",
    "plt.figure(figsize=(4.5, 4))\n",
    "plt.scatter(np.real(x_np[:, 0]), np.imag(x_np[:, 0]))\n",
    "for i in range(np.shape(x_np)[0]) :\n",
    "    plt.text(np.real(x_np[i, 0]), np.imag(x_np[i, 0]), str(msg_np[i]), fontsize=18)"
   ]
  },
  {
   "cell_type": "markdown",
   "metadata": {
    "id": "I4shd_Mzj-pR"
   },
   "source": [
    "# Train"
   ]
  },
  {
   "cell_type": "code",
   "execution_count": 13,
   "metadata": {
    "colab": {
     "base_uri": "https://localhost:8080/"
    },
    "id": "8IoChnYSj-pR",
    "outputId": "c3e0c322-4697-43fa-fec9-7896d964b43f"
   },
   "outputs": [
    {
     "name": "stdout",
     "output_type": "stream",
     "text": [
      "Symbol Error Rate after each epoch:\n",
      "0.0, 0.0, 0.0, 0.0, 0.0, 0.0, 0.0, 0.0, 0.0, 0.0, 0.0, 0.0, 0.0, 0.0, 0.0, 0.0, 0.0, 0.0, 0.0, 0.0, 0.0, 0.0, 0.0, 0.0, 0.0, Done\n"
     ]
    }
   ],
   "source": [
    "batch_size = 10000\n",
    "epoch_size = 100\n",
    "nb_epoch = 25\n",
    "snr_training = 15\n",
    "\n",
    "print('Symbol Error Rate after each epoch:')\n",
    "\n",
    "#Initialize optimizer\n",
    "optimizer = tf.keras.optimizers.Adam()\n",
    "\n",
    "for epoch in range(nb_epoch):\n",
    "\n",
    "    # Create a random dataset for each epoch\n",
    "    dataset = tf.data.Dataset.zip(generate_ds_msg(epoch_size, batch_size, M))\n",
    "\n",
    "    # Iterate over the batches of the dataset.\n",
    "    for step, (features, labels) in enumerate(dataset):\n",
    "        # Open a GradientTape.\n",
    "        with tf.GradientTape() as tape:\n",
    "\n",
    "            # Forward pass.\n",
    "            probas = autoencoder(features, snr=snr_training)\n",
    "\n",
    "            # Loss value for this batch.\n",
    "            loss_value =  loss_func(y_true=labels, y_pred=probas)\n",
    "\n",
    "        # Get gradients of loss wrt the weights.\n",
    "        gradients = tape.gradient(loss_value, autoencoder.trainable_weights)\n",
    "\n",
    "        # Update the weights of our linear layer.\n",
    "        optimizer.apply_gradients(zip(gradients, autoencoder.trainable_weights))\n",
    "\n",
    "    #Take the argmax of the probability distribution as the estimated message\n",
    "    m_hat = tf.argmax(probas, axis=1, output_type=tf.int32)\n",
    "\n",
    "    ser = tf.reduce_sum(tf.clip_by_value(tf.abs(labels-m_hat), 0, 1))/(batch_size)\n",
    "    print(ser.numpy(), end=', ')\n",
    "print('Done')"
   ]
  },
  {
   "cell_type": "markdown",
   "metadata": {
    "id": "pOv0LEZNj-pS"
   },
   "source": [
    "## Evaluate the model"
   ]
  },
  {
   "cell_type": "code",
   "execution_count": 14,
   "metadata": {
    "colab": {
     "base_uri": "https://localhost:8080/"
    },
    "id": "r7iorJlJj-pS",
    "outputId": "163852c4-13b7-4d7b-aa40-612f088c904f"
   },
   "outputs": [
    {
     "name": "stdout",
     "output_type": "stream",
     "text": [
      "0.51497, 0.49478, 0.45455, 0.42927, 0.38481, 0.35853, 0.29353, 0.24187, 0.20671, 0.1504, 0.09823, 0.07424, 0.04219, 0.028, 0.01317, 0.00591, 0.00272, 0.00035, 9e-05, 1e-05, 0.0, 0.0, 0.0, 0.0, 0.0, 0.0, "
     ]
    }
   ],
   "source": [
    "snr_range = np.arange(-5, 21, dtype=np.float32)\n",
    "results=[]\n",
    "bs_eval = 100000\n",
    "\n",
    "for snr_eval in snr_range:\n",
    "\n",
    "    batch_msg = tf.random.uniform(shape=[bs_eval], minval=0, maxval=M, dtype=tf.int32)\n",
    "\n",
    "    p_m = autoencoder(batch_msg, snr_eval)\n",
    "    m_hat = tf.argmax(p_m, axis=1, output_type=tf.int32)\n",
    "\n",
    "    ser = tf.reduce_sum(tf.clip_by_value(tf.abs(batch_msg-m_hat), 0, 1))/(bs_eval)\n",
    "    print(ser.numpy(), end=', ')\n",
    "    results.append(ser.numpy())"
   ]
  },
  {
   "cell_type": "code",
   "execution_count": 15,
   "metadata": {
    "id": "dF1dNM2xj-pT"
   },
   "outputs": [],
   "source": [
    "AE = np.array([0.63725, 0.63161, 0.61287, 0.59402, 0.57458, 0.55801, 0.51989, 0.48963, 0.46859, 0.42091, 0.3697, 0.33848, 0.28739, 0.25182, 0.2055, 0.15662, 0.1312, 0.07178, 0.04758, 0.02254, 0.01261, 0.00384, 0.00189, 0.00045, 6e-05, 2e-05])\n",
    "AE_2 = np.array([0.51497, 0.49478, 0.45455, 0.42927, 0.38481, 0.35853, 0.29353, 0.24187, 0.20671, 0.1504, 0.09823, 0.07424, 0.04219, 0.028, 0.01317, 0.00591, 0.00272, 0.00035, 9e-05, 1e-05, 0.0, 0.0, 0.0, 0.0, 0.0, 0.0,])"
   ]
  },
  {
   "cell_type": "code",
   "execution_count": 16,
   "metadata": {
    "colab": {
     "base_uri": "https://localhost:8080/",
     "height": 473
    },
    "id": "TUOhghfSj-pT",
    "outputId": "2000f4ec-ccd5-449c-94ef-213a4a212cd2"
   },
   "outputs": [
    {
     "data": {
      "image/png": "[encoded data removed]",
      "text/plain": [
       "<Figure size 800x500 with 1 Axes>"
      ]
     },
     "metadata": {},
     "output_type": "display_data"
    }
   ],
   "source": [
    "plt.figure(figsize=(8, 5))\n",
    "plt.semilogy(snr_range, AE, '-bd', label='AE')\n",
    "plt.semilogy(snr_range, AE_2, '-ko', label='AE_MIMO')\n",
    "plt.legend()\n",
    "plt.xlabel('SNR(dB)')\n",
    "plt.ylabel('Symbol Eror Rate');\n",
    "plt.ylim(1e-4, 1)\n",
    "plt.grid(which='major', alpha=0.5)\n",
    "plt.grid(which='minor', alpha=0.25)"
   ]
  },
  {
   "cell_type": "markdown",
   "metadata": {
    "id": "taVv1EyPj-pU"
   },
   "source": [
    "## See learned constellation"
   ]
  },
  {
   "cell_type": "code",
   "execution_count": 212,
   "metadata": {
    "colab": {
     "base_uri": "https://localhost:8080/",
     "height": 373
    },
    "id": "9bkTOUQkj-pU",
    "outputId": "b7dfe7ae-0823-493e-9bb2-a4036594fde6"
   },
   "outputs": [
    {
     "data": {
      "image/png": "[encoded data removed]",
      "text/plain": [
       "<Figure size 450x400 with 1 Axes>"
      ]
     },
     "metadata": {},
     "output_type": "display_data"
    }
   ],
   "source": [
    "snr_eval = 10\n",
    "\n",
    "# Form a batch containing every message\n",
    "batch_msg = tf.cast(tf.linspace(0., M-1, M), tf.int32)\n",
    "\n",
    "p_b = autoencoder(batch_msg, snr=snr_eval)\n",
    "\n",
    "msg_np = batch_msg.numpy()\n",
    "x_np = autoencoder.x.numpy()\n",
    "\n",
    "plt.figure(figsize=(4.5, 4))\n",
    "plt.scatter(np.real(x_np[:, 0]), np.imag(x_np[:, 0]))\n",
    "for i in range(np.shape(x_np)[0]) :\n",
    "    plt.text(np.real(x_np[i, 0]), np.imag(x_np[i, 0]), str(msg_np[i]), fontsize=18)"
   ]
  }
 ],
 "metadata": {
  "colab": {
   "provenance": []
  },
  "kernelspec": {
   "display_name": "Python 3 (ipykernel)",
   "language": "python",
   "name": "python3"
  },
  "language_info": {
   "codemirror_mode": {
    "name": "ipython",
    "version": 3
   },
   "file_extension": ".py",
   "mimetype": "text/x-python",
   "name": "python",
   "nbconvert_exporter": "python",
   "pygments_lexer": "ipython3",
   "version": "3.8.18"
  }
 },
 "nbformat": 4,
 "nbformat_minor": 4
}
